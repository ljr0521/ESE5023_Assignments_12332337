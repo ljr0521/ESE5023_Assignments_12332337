{
 "cells": [
  {
   "cell_type": "markdown",
   "id": "4db7d4ea",
   "metadata": {},
   "source": [
    "Assignment 5 (due on 12/20)\n",
    "\n",
    "Student：黄玮麟（12332337），Gtihub：ljr0521\n",
    "\n",
    "批改人：赵淑慧\n",
    "\n",
    "得分：35/40\n",
    "\n",
    "Bonus：0/15"
   ]
  },
  {
   "cell_type": "markdown",
   "id": "1816bead",
   "metadata": {},
   "source": [
    "1.1 13/15 347是1986年的N1，因此t应从1986开始\n",
    "\n",
    "1.2 18/20 初值有误，618和821并不是1751年的N1和N2，k12和k21的值也不对应1751年\n",
    "\n",
    "1.3 4/5 第一题结果有误；作业中三图都缺少y轴标签"
   ]
  }
 ],
 "metadata": {
  "kernelspec": {
   "display_name": "Python 3 (ipykernel)",
   "language": "python",
   "name": "python3"
  },
  "language_info": {
   "codemirror_mode": {
    "name": "ipython",
    "version": 3
   },
   "file_extension": ".py",
   "mimetype": "text/x-python",
   "name": "python",
   "nbconvert_exporter": "python",
   "pygments_lexer": "ipython3",
   "version": "3.11.4"
  }
 },
 "nbformat": 4,
 "nbformat_minor": 5
}
